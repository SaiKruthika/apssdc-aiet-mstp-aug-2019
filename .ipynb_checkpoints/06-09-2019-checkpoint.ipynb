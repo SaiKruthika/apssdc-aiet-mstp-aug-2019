{
 "cells": [
  {
   "cell_type": "markdown",
   "metadata": {},
   "source": [
    "# Control statements"
   ]
  },
  {
   "cell_type": "markdown",
   "metadata": {},
   "source": [
    "## Simple if"
   ]
  },
  {
   "cell_type": "code",
   "execution_count": null,
   "metadata": {},
   "outputs": [],
   "source": [
    "syntax of if statement:\n",
    "if condition:\n",
    "    statements"
   ]
  },
  {
   "cell_type": "code",
   "execution_count": 1,
   "metadata": {},
   "outputs": [
    {
     "name": "stdout",
     "output_type": "stream",
     "text": [
      "-5 is a negative number\n"
     ]
    }
   ],
   "source": [
    "num=-5\n",
    "if num<0:\n",
    "    print(num,'is a negative number')\n",
    "else:\n",
    "    print(num,'is a positive number')"
   ]
  },
  {
   "cell_type": "markdown",
   "metadata": {},
   "source": [
    "## Input function"
   ]
  },
  {
   "cell_type": "code",
   "execution_count": 2,
   "metadata": {},
   "outputs": [
    {
     "name": "stdout",
     "output_type": "stream",
     "text": [
      "Enter a value:3\n",
      "Enter b value:5\n",
      "addition of  3 and  5  is: 8\n"
     ]
    }
   ],
   "source": [
    "a=int(input('Enter a value:'))\n",
    "b=int(input('Enter b value:'))\n",
    "print(\"addition of \",a,\"and \",b,\" is:\",a+b)"
   ]
  },
  {
   "cell_type": "markdown",
   "metadata": {},
   "source": [
    "## if else"
   ]
  },
  {
   "cell_type": "code",
   "execution_count": 3,
   "metadata": {},
   "outputs": [
    {
     "name": "stdout",
     "output_type": "stream",
     "text": [
      "5\n",
      "5 is positive number\n"
     ]
    }
   ],
   "source": [
    "num=int(input())\n",
    "if num<0:\n",
    "    print(num,\"is negative number\")\n",
    "else:\n",
    "    print(num,\"is positive number\")"
   ]
  },
  {
   "cell_type": "code",
   "execution_count": null,
   "metadata": {},
   "outputs": [],
   "source": [
    "a=int(input(\"enter a value:\"))\n",
    "b=int(input(\"enter b value:\"))\n",
    "c=int(input(\"enter c value:\"))\n",
    "if a>b and a>c:\n",
    "    print(a,\" is the greatest\")\n",
    "elif b>a and b>c:\n",
    "    print(b,\" is the largest\")\n",
    "else:\n",
    "    print(c,\" is the largest\")"
   ]
  },
  {
   "cell_type": "markdown",
   "metadata": {},
   "source": [
    "## Nested if"
   ]
  },
  {
   "cell_type": "code",
   "execution_count": null,
   "metadata": {},
   "outputs": [],
   "source": [
    "a=int(input(\"A= \"))\n",
    "b=int(input(\"B= \"))\n",
    "c=int(input(\"C= \"))\n",
    "if a>b:\n",
    "    if a>c:\n",
    "        print(\"Largest number is\",a)\n",
    "    else:\n",
    "        print(\"Largest number is\",c)\n",
    "elif b>a:\n",
    "    if b>c:\n",
    "        print(\"Largest number is\",b)\n",
    "    else:\n",
    "        print(\"Largest number is\",c)"
   ]
  },
  {
   "cell_type": "code",
   "execution_count": null,
   "metadata": {},
   "outputs": [],
   "source": [
    "a=int(input(\"Enter Lower bound number:\"))\n",
    "b=int(input(\"Enter Upper bound number:\"))\n",
    "N=int(input(\"Enter N:\"))\n",
    "if N>a and N<b:\n",
    "    print(\"given number is exist\")"
   ]
  },
  {
   "cell_type": "markdown",
   "metadata": {},
   "source": [
    "## Loops"
   ]
  },
  {
   "cell_type": "markdown",
   "metadata": {},
   "source": [
    "* for loop"
   ]
  },
  {
   "cell_type": "code",
   "execution_count": null,
   "metadata": {},
   "outputs": [],
   "source": [
    "#syntax\n",
    "for temp_var in sequence:statements"
   ]
  },
  {
   "cell_type": "code",
   "execution_count": null,
   "metadata": {},
   "outputs": [],
   "source": [
    "for num in 1,2,3,4:\n",
    "    print(num)"
   ]
  },
  {
   "cell_type": "markdown",
   "metadata": {},
   "source": [
    "## range function"
   ]
  },
  {
   "cell_type": "code",
   "execution_count": null,
   "metadata": {},
   "outputs": [],
   "source": [
    "for num in range(1,5):\n",
    "    print(num)"
   ]
  },
  {
   "cell_type": "code",
   "execution_count": null,
   "metadata": {},
   "outputs": [],
   "source": [
    "for num in range(1,10,2):\n",
    "    print(num)"
   ]
  },
  {
   "cell_type": "code",
   "execution_count": null,
   "metadata": {},
   "outputs": [],
   "source": [
    "for num in range(5,0,-1):\n",
    "    print(num)"
   ]
  },
  {
   "cell_type": "code",
   "execution_count": null,
   "metadata": {},
   "outputs": [],
   "source": [
    "i=0\n",
    "for i in range(1,11):\n",
    "    sum+=i\n",
    "print(sum)"
   ]
  },
  {
   "cell_type": "code",
   "execution_count": null,
   "metadata": {},
   "outputs": [],
   "source": [
    "n=int(input(\"enter the value of n:\"))\n",
    "for i in range(1,11):\n",
    "    print(n,\"*\",i,\"=\",n*i)"
   ]
  },
  {
   "cell_type": "markdown",
   "metadata": {},
   "source": [
    "## Break statement"
   ]
  },
  {
   "cell_type": "code",
   "execution_count": 4,
   "metadata": {},
   "outputs": [
    {
     "name": "stdout",
     "output_type": "stream",
     "text": [
      "Y\n",
      "a\n"
     ]
    }
   ],
   "source": [
    "name=\"Yamini\"\n",
    "for char in name:\n",
    "    if char=='m':\n",
    "        break\n",
    "    print(char)"
   ]
  },
  {
   "cell_type": "markdown",
   "metadata": {},
   "source": [
    "## Continue statements"
   ]
  },
  {
   "cell_type": "code",
   "execution_count": 5,
   "metadata": {},
   "outputs": [
    {
     "name": "stdout",
     "output_type": "stream",
     "text": [
      "amini"
     ]
    }
   ],
   "source": [
    "name=\"Yamini\"\n",
    "for char in name:\n",
    "    if char=='Y':\n",
    "        continue\n",
    "    print(char,end='')"
   ]
  },
  {
   "cell_type": "markdown",
   "metadata": {},
   "source": [
    "## While loop"
   ]
  },
  {
   "cell_type": "code",
   "execution_count": null,
   "metadata": {},
   "outputs": [],
   "source": [
    "# while syntax\n",
    "while condition:\n",
    "    statements"
   ]
  },
  {
   "cell_type": "code",
   "execution_count": 6,
   "metadata": {},
   "outputs": [
    {
     "name": "stdout",
     "output_type": "stream",
     "text": [
      "1\n",
      "2\n",
      "3\n",
      "4\n",
      "5\n"
     ]
    }
   ],
   "source": [
    "i=1\n",
    "while i<=5:\n",
    "    print (i)\n",
    "    i+=1"
   ]
  },
  {
   "cell_type": "code",
   "execution_count": 7,
   "metadata": {},
   "outputs": [
    {
     "name": "stdout",
     "output_type": "stream",
     "text": [
      "Enter a number:5\n",
      "120\n"
     ]
    }
   ],
   "source": [
    "n=int(input(\"Enter a number:\"))\n",
    "fact=i=1\n",
    "while i<=n:\n",
    "    fact=fact*i\n",
    "    i+=1\n",
    "print(fact)"
   ]
  },
  {
   "cell_type": "code",
   "execution_count": null,
   "metadata": {},
   "outputs": [],
   "source": []
  },
  {
   "cell_type": "code",
   "execution_count": null,
   "metadata": {},
   "outputs": [],
   "source": []
  },
  {
   "cell_type": "code",
   "execution_count": null,
   "metadata": {},
   "outputs": [],
   "source": []
  }
 ],
 "metadata": {
  "kernelspec": {
   "display_name": "Python 3",
   "language": "python",
   "name": "python3"
  },
  "language_info": {
   "codemirror_mode": {
    "name": "ipython",
    "version": 3
   },
   "file_extension": ".py",
   "mimetype": "text/x-python",
   "name": "python",
   "nbconvert_exporter": "python",
   "pygments_lexer": "ipython3",
   "version": "3.7.3"
  }
 },
 "nbformat": 4,
 "nbformat_minor": 2
}
