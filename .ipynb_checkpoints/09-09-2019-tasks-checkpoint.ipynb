{
 "cells": [
  {
   "cell_type": "markdown",
   "metadata": {},
   "source": [
    "#### Question -1:\n",
    "#### Maximum length: Print the words which length has maximum if multiple names has max length print that names in same line."
   ]
  },
  {
   "cell_type": "code",
   "execution_count": 5,
   "metadata": {},
   "outputs": [
    {
     "name": "stdout",
     "output_type": "stream",
     "text": [
      "kruthika\n"
     ]
    }
   ],
   "source": [
    "names=\"yamini kruthika sussmi janu tejuu\"\n",
    "split=names.split(\" \")\n",
    "length=len(split[0])\n",
    "new_name=split[0]\n",
    "for name in split:\n",
    "    if length<len(name):\n",
    "        new_name=name\n",
    "print(new_name)"
   ]
  },
  {
   "cell_type": "markdown",
   "metadata": {},
   "source": [
    "#### Question -2:\n",
    "#### Palindrome: Need to find and print whether this string is a palindrome or not. If yes, print \"YES\" else print \"NO\"."
   ]
  },
  {
   "cell_type": "code",
   "execution_count": 1,
   "metadata": {},
   "outputs": [
    {
     "name": "stdout",
     "output_type": "stream",
     "text": [
      "madam\n",
      "YES\n"
     ]
    }
   ],
   "source": [
    "string=input()\n",
    "r=string[::-1]\n",
    "if r==string:\n",
    "    print(\"YES\")\n",
    "else:\n",
    "    print(\"NO\")"
   ]
  },
  {
   "cell_type": "markdown",
   "metadata": {},
   "source": [
    "#### Question -3:\n",
    "#### Toggle String: You have been given a String S consisting of uppercase and lowercase English alphabets. You need to change the case of each alphabet in this String."
   ]
  },
  {
   "cell_type": "code",
   "execution_count": 2,
   "metadata": {},
   "outputs": [
    {
     "name": "stdout",
     "output_type": "stream",
     "text": [
      "KRuthI\n"
     ]
    },
    {
     "data": {
      "text/plain": [
       "'krUTHi'"
      ]
     },
     "execution_count": 2,
     "metadata": {},
     "output_type": "execute_result"
    }
   ],
   "source": [
    "string=input()\n",
    "string.swapcase()"
   ]
  }
 ],
 "metadata": {
  "kernelspec": {
   "display_name": "Python 3",
   "language": "python",
   "name": "python3"
  },
  "language_info": {
   "codemirror_mode": {
    "name": "ipython",
    "version": 3
   },
   "file_extension": ".py",
   "mimetype": "text/x-python",
   "name": "python",
   "nbconvert_exporter": "python",
   "pygments_lexer": "ipython3",
   "version": "3.7.3"
  }
 },
 "nbformat": 4,
 "nbformat_minor": 2
}
