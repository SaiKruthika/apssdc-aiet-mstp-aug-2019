{
 "cells": [
  {
   "cell_type": "markdown",
   "metadata": {},
   "source": [
    "## Question 1:\n",
    "### Mobile Number Validation:\n",
    "#### You have been given mobile numbers separated by “,” you need to valid those mobile numbers,If valid print True otherwise False"
   ]
  },
  {
   "cell_type": "code",
   "execution_count": 25,
   "metadata": {},
   "outputs": [
    {
     "name": "stdout",
     "output_type": "stream",
     "text": [
      "9874563210\n",
      "False\n"
     ]
    }
   ],
   "source": [
    "num=input()\n",
    "num_list=num.split(\",\")\n",
    "l=[9,8,7,6]\n",
    "for i in num_list:\n",
    "    if len(i)==10:\n",
    "        if i in l:\n",
    "            print(i)\n",
    "            if(i>=0 and i<=9):\n",
    "                print(\"True\")\n",
    "            else:\n",
    "                print(\"False\")\n",
    "        else: \n",
    "            print(\"False\")\n",
    "    else:\n",
    "        print(\"False\")"
   ]
  },
  {
   "cell_type": "code",
   "execution_count": 29,
   "metadata": {},
   "outputs": [
    {
     "name": "stdout",
     "output_type": "stream",
     "text": [
      "5\n",
      "100\n",
      "200\n",
      "300\n",
      "12\n",
      "33\n",
      "60\n",
      "True\n",
      "True\n",
      "False\n",
      "False\n",
      "False\n"
     ]
    }
   ],
   "source": [
    "first=int(input())\n",
    "second=int(input())\n",
    "l=[]\n",
    "for i in range(first):\n",
    "    l.append(int(input()))\n",
    "for i in range(first):\n",
    "    if l[i]>=100:\n",
    "        print(\"True\")\n",
    "    else:\n",
    "        print(\"False\")"
   ]
  },
  {
   "cell_type": "code",
   "execution_count": null,
   "metadata": {},
   "outputs": [],
   "source": []
  }
 ],
 "metadata": {
  "kernelspec": {
   "display_name": "Python 3",
   "language": "python",
   "name": "python3"
  },
  "language_info": {
   "codemirror_mode": {
    "name": "ipython",
    "version": 3
   },
   "file_extension": ".py",
   "mimetype": "text/x-python",
   "name": "python",
   "nbconvert_exporter": "python",
   "pygments_lexer": "ipython3",
   "version": "3.7.3"
  }
 },
 "nbformat": 4,
 "nbformat_minor": 2
}
