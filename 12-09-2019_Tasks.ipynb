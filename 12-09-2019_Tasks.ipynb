{
 "cells": [
  {
   "cell_type": "markdown",
   "metadata": {},
   "source": [
    "## Question 1:\n",
    "### Mobile Number Validation:\n",
    "#### You have been given mobile numbers separated by “,” you need to valid those mobile numbers,If valid print True otherwise False"
   ]
  },
  {
   "cell_type": "code",
   "execution_count": 3,
   "metadata": {},
   "outputs": [
    {
     "name": "stdout",
     "output_type": "stream",
     "text": [
      "9632587410,1236547890,65418FHGX,9632581470\n",
      "True\n",
      "False\n",
      "False\n",
      "True\n"
     ]
    }
   ],
   "source": [
    "import re\n",
    "def isValid(num):\n",
    "    if re.findall(\"^[6-9]\\d{9}\",num):\n",
    "        return True\n",
    "    else:\n",
    "        return False\n",
    "number=input().split(',')\n",
    "for i in number:\n",
    "    print(isValid(i))"
   ]
  },
  {
   "cell_type": "code",
   "execution_count": 2,
   "metadata": {},
   "outputs": [
    {
     "name": "stdout",
     "output_type": "stream",
     "text": [
      "5\n",
      "100\n",
      "500\n",
      "234\n",
      "32\n",
      "1\n",
      "700\n",
      "True\n",
      "True\n",
      "False\n",
      "False\n",
      "True\n"
     ]
    }
   ],
   "source": [
    "first=int(input())\n",
    "second=int(input())\n",
    "l=[]\n",
    "for i in range(first):\n",
    "    l.append(int(input()))\n",
    "for i in range(first):\n",
    "    if l[i]>=100:\n",
    "        print(\"True\")\n",
    "    else:\n",
    "        print(\"False\")"
   ]
  },
  {
   "cell_type": "code",
   "execution_count": null,
   "metadata": {},
   "outputs": [],
   "source": []
  }
 ],
 "metadata": {
  "kernelspec": {
   "display_name": "Python 3",
   "language": "python",
   "name": "python3"
  },
  "language_info": {
   "codemirror_mode": {
    "name": "ipython",
    "version": 3
   },
   "file_extension": ".py",
   "mimetype": "text/x-python",
   "name": "python",
   "nbconvert_exporter": "python",
   "pygments_lexer": "ipython3",
   "version": "3.7.3"
  }
 },
 "nbformat": 4,
 "nbformat_minor": 2
}
